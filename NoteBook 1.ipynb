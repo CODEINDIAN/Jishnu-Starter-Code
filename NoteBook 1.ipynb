{
 "cells": [
  {
   "cell_type": "code",
   "execution_count": null,
   "id": "883319bf",
   "metadata": {},
   "outputs": [],
   "source": [
    "import dat"
   ]
  },
  {
   "cell_type": "markdown",
   "id": "5268b314",
   "metadata": {},
   "source": [
    "# Version Code "
   ]
  },
  {
   "cell_type": "code",
   "execution_count": 2,
   "id": "f03180e0",
   "metadata": {},
   "outputs": [],
   "source": [
    "from datetime import datetime as dt"
   ]
  },
  {
   "cell_type": "code",
   "execution_count": 4,
   "id": "014a6de7",
   "metadata": {},
   "outputs": [
    {
     "name": "stdout",
     "output_type": "stream",
     "text": [
      "_v2701_v1250Model_Name\n",
      "_NALL\n"
     ]
    }
   ],
   "source": [
    "model_name=\"Model_Name\"\n",
    "mname=\"_NALL\"\n",
    "version_date='_v'+str(dt.today().strftime(\"%d\"))+str(dt.today().strftime('%m'))\n",
    "version_time='_v'+str(dt.today().strftime(\"%H\"))+str(dt.today().strftime('%M'))\n",
    "\n",
    "version=version_date+version_time+model_name\n",
    "print(version)\n",
    "print(mname)"
   ]
  },
  {
   "cell_type": "markdown",
   "id": "814d5b52",
   "metadata": {},
   "source": [
    "# Grid Search Random Search Opt binning"
   ]
  },
  {
   "cell_type": "code",
   "execution_count": 8,
   "id": "c7e98dda",
   "metadata": {},
   "outputs": [],
   "source": [
    "from sklearn.model_selection import GridSearchCV,RandomizedSearchCV\n",
    "from sklearn.ensemble import GradientBoostingClassifier"
   ]
  },
  {
   "cell_type": "code",
   "execution_count": 9,
   "id": "4db20c90",
   "metadata": {},
   "outputs": [],
   "source": [
    "model_instance=GradientBoostingClassifier()\n",
    "cv_folds=2\n",
    "n_iter=20\n",
    "scoring=\"roc_auc\""
   ]
  },
  {
   "cell_type": "code",
   "execution_count": 11,
   "id": "55c48e0d",
   "metadata": {},
   "outputs": [],
   "source": [
    "search_dictr={}\n",
    "search_dictr[\"n_estimators\"]=[50,100,150,200,250,300]\n",
    "search_dictr[\"max_depth\"]=[3,4,5]\n",
    "search_dictr[\"min_sample_split\"]=[0.01,0.02,0.03]\n",
    "search_dictr['learning_rate']=[0.1,0.01,0.001]\n",
    "search_dictr[\"subsample\"]=[0.9,1.0]\n",
    "\n",
    "search_model=RandomizedSearchCV(model_instance,search_dictr,cv=cv_folds,\n",
    "                                scoring=scoring,n_iter=n_iter,refit=False,\n",
    "                                verbose=True,return_train_score=True)"
   ]
  },
  {
   "cell_type": "code",
   "execution_count": 12,
   "id": "cd1d271a",
   "metadata": {},
   "outputs": [],
   "source": [
    "# Caution \n",
    "# Need to enter the  x TRAIN AND Y TRAIN\n",
    "X_train=?????\n",
    "y_train=?????\n",
    "\n",
    "# For sample weights\n",
    "search_model.fit(X_train,y_train,sample_weight=sample_weights)\n",
    "# Without Sample Weights\n",
    "search_model.fit(X_train,y_train)"
   ]
  },
  {
   "cell_type": "code",
   "execution_count": null,
   "id": "19f4a33e",
   "metadata": {},
   "outputs": [],
   "source": [
    "#  Grid Results\n",
    "out_metric_ref=sorted(search_model.cv_results_.keys())\n",
    "\n",
    "cv_df=pd.DataFrame(search_model.cv_results_)\n",
    "print(\"tuned hyper parameters:(best parameters)\",search_model.best_params_)\n",
    "print(\"Area RoC :\" , round(search_model.best_score_,4))"
   ]
  },
  {
   "cell_type": "markdown",
   "id": "e6fa26e1",
   "metadata": {},
   "source": [
    "## Get the best parameters and run the model"
   ]
  },
  {
   "cell_type": "code",
   "execution_count": 21,
   "id": "d4a281ec",
   "metadata": {},
   "outputs": [],
   "source": [
    "from sklearn.metrics import f1_score,confusion_matrix,roc_auc_score,roc_curve,auc\n",
    "import matplotlib.pyplot as plt"
   ]
  },
  {
   "cell_type": "code",
   "execution_count": 17,
   "id": "5d3b2ad8",
   "metadata": {},
   "outputs": [],
   "source": [
    "\n",
    "\n",
    "# X_test=?????\n",
    "# X_train=????\n",
    "# X_oot=????\n",
    "# y_train=????\n",
    "# y_test=????\n",
    "# y_oot=????\n",
    "\n",
    "\n",
    "\n",
    "learning_rate=0.05\n",
    "n_estimator=500\n",
    "max_depth=5\n",
    "min_sample_split=0.01\n",
    "min_sample_leaf=0.005\n",
    "max_features='auto'\n",
    "max_leaf_nodes=100\n",
    "subsample=1.0\n",
    "random_state=45\n",
    "\n",
    "model_instance=GradientBoostingClassifier(random_state=random_state,learning_rate=learning_rate,\n",
    "                                         n_estimators=n_estimator,max_depth=max_depth, min_samples_split=min_sample_split,\n",
    "                                          min_samples_leaf=min_sample_leaf,max_features=max_features,\n",
    "                                          max_leaf_nodes=max_leaf_nodes,\n",
    "                                          subsample=subsample\n",
    "                                         )"
   ]
  },
  {
   "cell_type": "code",
   "execution_count": null,
   "id": "4b275b1c",
   "metadata": {},
   "outputs": [],
   "source": [
    "# Running Model\n",
    "model_instance.fit(X_train,y_train,sample_weight=sample_weight)"
   ]
  },
  {
   "cell_type": "code",
   "execution_count": null,
   "id": "a04298b5",
   "metadata": {},
   "outputs": [],
   "source": [
    "print(f\" model train score {model_instance.score(X_train,y_train)}\")\n",
    "print(f\" model train score {f1_score(y_train,model_instance.predict(X_train))}\")\n",
    "\n",
    "print(f\" model train score {model_instance.score(X_test,y_test)}\")\n",
    "print(f\" model train score {f1_score(y_test,model_instance.predict(X_test))}\")\n",
    "\n",
    "print(f\" model train score {model_instance.score(X_oot,y_oot)}\")\n",
    "print(f\" model train score {f1_score(y_oot,model_instance.predict(X_oot))}\")"
   ]
  },
  {
   "cell_type": "code",
   "execution_count": 23,
   "id": "a4a666a3",
   "metadata": {},
   "outputs": [],
   "source": [
    "fpr_train,tpr_train,thr_train=roc_curve(y_train,model_instance.predict_proba(X_train)[:,1:])\n",
    "auc_train=auc(fpr_train,tpr_train)\n",
    "\n",
    "fpr_test,tpr_test,thr_test=roc_curve(y_test,model_instance.predict_proba(X_test)[:,1:])\n",
    "auc_test=auc(fpr_test,tpr_test)\n",
    "\n",
    "fpr_oot,tpr_oot,thr_oot=roc_curve(y_oot,model_instance.predict_proba(X_oot)[:,1:])\n",
    "auc_oot=auc(fpr_oot,tpr_oot)\n",
    "\n",
    "\n",
    "lw=2\n",
    "\n",
    "f,ax=plt.subplots(1,1,figsize=(10,7))\n",
    "ax.plot(fpr_train,tpr_train, color=\"darkorange\",lw=lw,label=f\"ROC TRAIN (Area = { auc_train })\")\n",
    "\n",
    "ax.plot(fpr_test,tpr_test, color=\"darkblue\",lw=lw,label=f\"ROC TEST (Area = { auc_test })\")\n",
    "\n",
    "ax.plot(fpr_oot,tpr_oot, color=\"darkred\",lw=lw,label=f\"ROC OOT (Area = { auc_oot })\")\n",
    "\n",
    "ax.plot([0,1],[0,1] ,color=\"navy\",lw=lw linestyle=\"--\" )\n",
    "ax.set_xlim([0.0,1.0])\n",
    "ax.set_ylim([0.0,1.05])\n",
    "\n",
    "ax.set_xlabel(\"False Positive Rate\")\n",
    "ax.set_ylabel(\"True Positive Rate\")\n",
    "ax.set_title(\"ROC:MODEL_NAME:\"+str(version))\n",
    "\n",
    "ax.legend(loc='lower right')\n",
    "\n",
    "plt.show()\n",
    "\n"
   ]
  },
  {
   "cell_type": "code",
   "execution_count": null,
   "id": "8395782b",
   "metadata": {},
   "outputs": [],
   "source": []
  },
  {
   "cell_type": "code",
   "execution_count": null,
   "id": "f11bde8f",
   "metadata": {},
   "outputs": [],
   "source": []
  },
  {
   "cell_type": "markdown",
   "id": "fbec35db",
   "metadata": {},
   "source": [
    "# KS stats "
   ]
  },
  {
   "cell_type": "code",
   "execution_count": 26,
   "id": "2fe29dc7",
   "metadata": {},
   "outputs": [],
   "source": [
    "import pandas as  pd"
   ]
  },
  {
   "cell_type": "code",
   "execution_count": null,
   "id": "750764bd",
   "metadata": {},
   "outputs": [],
   "source": [
    "def ks_base_normal(y,y_proba_list,groups=20):\n",
    "    \n",
    "    data=pd.DataFrame()\n",
    "    \n",
    "    data[\"target\"]=y\n",
    "    data[\"prob\"]=y_proba_list\n",
    "    \n",
    "    data[\"target0\"]=1-data[\"target\"]\n",
    "    \n",
    "    data['bucket']=pd.qcut(data[\"prob\"],groups,duplicates='drop',label=False)\n",
    "    \n",
    "    bucket_groups=len(pd.unique(data[\"bucket\"]))\n",
    "    \n",
    "    grouped=data.groupby(\"bucket\",as_index=False)\n",
    "    \n",
    "    kstable=pd.DataFrame()\n",
    "    kstable[\"min_prob\"]=grouped.min()[\"prob\"]\n",
    "    kstable[\"max_prob\"]=grouped.max()['prob']\n",
    "    kstable['events']=grouped.sum()[\"target\"]\n",
    "    kstable[\"nonevents\"]=grouped.sum()['target0']\n",
    "    \n",
    "    kstable=kstable.sort_values(by=\"min_prob\",ascending=False).reset_index(drop=True)\n",
    "    \n",
    "    kstable['total_obs']=kstable[\"events\"]+ kstable[\"nonevents\"]\n",
    "    \n",
    "    kstable['event_rate']=list(map(lambda x,y: x/(x+y),kstable['events'],kstable[\"nonevents\"]))\n",
    "    kstable['nonevent_rate']=llst(map(lambda x,y : y/(x+y),kstable[\"events\"],kstable[\"nonevents\"]))\n",
    "    \n",
    "    kstable[\"%event\"]=(kstable.events/data[\"target\"].sum())\n",
    "    kstable[\"%nonevents\"]=(kstable.nonevents / data[\"target0\"].sum() )\n",
    "    kstable[\"%total_obs\"]=kstable[\"total_obs\"].map(lambda x: round(x/kstable[\"total_obs\"].sum() ,3))\n",
    "    \n",
    "    kstable[\"cum_event\"]= (kstable.events).cumsum()\n",
    "    kstable[\"cum_nonevent\"]=(kstable.nonevents).cumsum()\n",
    "    kstable[\"cum_totalobs\"]=(kstable.total_obs).cumsum()\n",
    "    \n",
    "    kstable['cum_event_rate']=list(map(lambda x,y : x/(x+y),kstable[\"cum_event\"],kstable['cum_nonevent']))\n",
    "    \n",
    "    kstable[\"%cum_event\"]=(kstable.events / data['target'].sum()).cumsum()\n",
    "    \n",
    "    kstable[\"%cum_nonevent\"]=(kstable.nonevents / data[\"target0\"].sum() ).cumsum()\n",
    "    kstable[\"%cum_totalobs\"]=round(kstable['cum_totalobs'] / kstable['total_obs'].sum(),3 )\n",
    "    \n",
    "    kstable[\"KS\"]=np.round(kstable[\"%cum_event\"] - kstable[\"%cum_nonevent\"],3 )*100\n",
    "    \n",
    "    kstable.index=range(1,bucket_groups+1)\n",
    "    kstable.index.rename(\"Decile\",inplace=True)\n",
    "    \n",
    "    kstable[\"true_pos\"]=kstable['cum_event']\n",
    "    kstable[\"false_pos\"]=kstable['cum_nonevent']\n",
    "    \n",
    "    kstable['true_neg']=list(map(lambda x: (kstable['nonevents'].sum()) - x,kstable['false_pos']))\n",
    "    kstable['false_neg']=list(map(lambda x: (kstable['events'].sum()) - x,kstable['true_pos']))\n",
    "    kstable['Precision']=list(map(lambda x,y : x/(x+y),kstable['true_pos'],kstable[\"false_pos\"]))\n",
    "    kstable[\"Recall\"]=list(map(lambda x,y:x/(x+y) , kstable['true_pos'],kstable[\"false_neg\"] ))\n",
    "    \n",
    "    sample_rate=round(kstable['events'].sum() / kstable['total_obs'].sum(),6 )\n",
    "    print(sample_rate)\n",
    "    kstable['lift']= round(kstable[\"cum_event_rate\"]/sample_rate,2)\n",
    "    \n",
    "    display(kstable.head())\n",
    "    \n",
    "    ks =round(max(kstable[\"KS\"]),2)\n",
    "    \n",
    "    print(\" \\n KS is  \"+ str(ks)+ \"%\" + 'at decile ' + str((kstable.index[kstable[\"KS\"]==max(kstable[\"KS\"])][0])))\n",
    "    \n",
    "    return (kstable)\n",
    "    \n",
    "    \n",
    "    \n",
    "    \n",
    "    \n",
    "    \n",
    "    \n",
    "    \n",
    "    \n",
    "    \n",
    "    \n",
    "    \n",
    "    \n",
    "    \n",
    "    "
   ]
  }
 ],
 "metadata": {
  "kernelspec": {
   "display_name": "Python 3 (ipykernel)",
   "language": "python",
   "name": "python3"
  },
  "language_info": {
   "codemirror_mode": {
    "name": "ipython",
    "version": 3
   },
   "file_extension": ".py",
   "mimetype": "text/x-python",
   "name": "python",
   "nbconvert_exporter": "python",
   "pygments_lexer": "ipython3",
   "version": "3.9.12"
  }
 },
 "nbformat": 4,
 "nbformat_minor": 5
}
